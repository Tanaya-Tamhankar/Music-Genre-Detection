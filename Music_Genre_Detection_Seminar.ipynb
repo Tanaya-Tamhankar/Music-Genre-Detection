{
  "nbformat": 4,
  "nbformat_minor": 0,
  "metadata": {
    "colab": {
      "provenance": []
    },
    "kernelspec": {
      "name": "python3",
      "display_name": "Python 3"
    },
    "language_info": {
      "name": "python"
    }
  },
  "cells": [
    {
      "cell_type": "code",
      "metadata": {
        "id": "RTN7TmDZE0kh",
        "colab": {
          "base_uri": "https://localhost:8080/"
        },
        "outputId": "77996431-ca04-42d8-f61f-3e691cd658ef"
      },
      "source": [
        "from google.colab import drive\n",
        "drive.mount('/content/drive')"
      ],
      "execution_count": null,
      "outputs": [
        {
          "output_type": "stream",
          "name": "stdout",
          "text": [
            "Mounted at /content/drive\n"
          ]
        }
      ]
    },
    {
      "cell_type": "code",
      "metadata": {
        "id": "hPCBdr5WZunQ"
      },
      "source": [
        "import os\n",
        "Root = \"/content/drive/MyDrive/Music Genre Detection/Data\"\n",
        "os.chdir(Root)"
      ],
      "execution_count": null,
      "outputs": []
    },
    {
      "cell_type": "markdown",
      "metadata": {
        "id": "75obe3FaV9jq"
      },
      "source": [
        "**Importing all required libraries in the project**"
      ]
    },
    {
      "cell_type": "code",
      "metadata": {
        "id": "bVtD3OzObdy8"
      },
      "source": [
        "import pandas as pd\n",
        "import numpy as np\n",
        "import os\n",
        "import IPython.display as ipd\n",
        "import librosa\n",
        "import librosa.display\n",
        "import matplotlib.pyplot as plt\n",
        "%matplotlib inline"
      ],
      "execution_count": null,
      "outputs": []
    },
    {
      "cell_type": "code",
      "metadata": {
        "id": "DAp48fsuQLvO"
      },
      "source": [
        "from sklearn.neighbors import KNeighborsClassifier"
      ],
      "execution_count": null,
      "outputs": []
    },
    {
      "cell_type": "code",
      "metadata": {
        "colab": {
          "base_uri": "https://localhost:8080/",
          "height": 300
        },
        "id": "3aR3794zcoyw",
        "outputId": "86dec394-219d-49ce-977b-15982c84adec"
      },
      "source": [
        "audio_dataset_path='/content/drive/MyDrive/Music Genre Detection/Data/genres_original'\n",
        "metadata=pd.read_csv('/content/drive/MyDrive/Music Genre Detection/Data/features_30_sec.csv')\n",
        "metadata.head()"
      ],
      "execution_count": null,
      "outputs": [
        {
          "output_type": "execute_result",
          "data": {
            "text/plain": [
              "          filename  length  chroma_stft_mean  chroma_stft_var  rms_mean  \\\n",
              "0  blues.00000.wav  661794          0.350088         0.088757  0.130228   \n",
              "1  blues.00001.wav  661794          0.340914         0.094980  0.095948   \n",
              "2  blues.00002.wav  661794          0.363637         0.085275  0.175570   \n",
              "3  blues.00003.wav  661794          0.404785         0.093999  0.141093   \n",
              "4  blues.00004.wav  661794          0.308526         0.087841  0.091529   \n",
              "\n",
              "    rms_var  spectral_centroid_mean  spectral_centroid_var  \\\n",
              "0  0.002827             1784.165850          129774.064525   \n",
              "1  0.002373             1530.176679          375850.073649   \n",
              "2  0.002746             1552.811865          156467.643368   \n",
              "3  0.006346             1070.106615          184355.942417   \n",
              "4  0.002303             1835.004266          343399.939274   \n",
              "\n",
              "   spectral_bandwidth_mean  spectral_bandwidth_var  ...  mfcc16_var  \\\n",
              "0              2002.449060            85882.761315  ...   52.420910   \n",
              "1              2039.036516           213843.755497  ...   55.356403   \n",
              "2              1747.702312            76254.192257  ...   40.598766   \n",
              "3              1596.412872           166441.494769  ...   44.427753   \n",
              "4              1748.172116            88445.209036  ...   86.099236   \n",
              "\n",
              "   mfcc17_mean  mfcc17_var  mfcc18_mean  mfcc18_var  mfcc19_mean  mfcc19_var  \\\n",
              "0    -1.690215   36.524071    -0.408979   41.597103    -2.303523   55.062923   \n",
              "1    -0.731125   60.314529     0.295073   48.120598    -0.283518   51.106190   \n",
              "2    -7.729093   47.639427    -1.816407   52.382141    -3.439720   46.639660   \n",
              "3    -3.319597   50.206673     0.636965   37.319130    -0.619121   37.259739   \n",
              "4    -5.454034   75.269707    -0.916874   53.613918    -4.404827   62.910812   \n",
              "\n",
              "   mfcc20_mean  mfcc20_var  label  \n",
              "0     1.221291   46.936035  blues  \n",
              "1     0.531217   45.786282  blues  \n",
              "2    -2.231258   30.573025  blues  \n",
              "3    -3.407448   31.949339  blues  \n",
              "4   -11.703234   55.195160  blues  \n",
              "\n",
              "[5 rows x 60 columns]"
            ],
            "text/html": [
              "\n",
              "  <div id=\"df-4299bb6b-c178-4350-ad66-d87c167e01c6\">\n",
              "    <div class=\"colab-df-container\">\n",
              "      <div>\n",
              "<style scoped>\n",
              "    .dataframe tbody tr th:only-of-type {\n",
              "        vertical-align: middle;\n",
              "    }\n",
              "\n",
              "    .dataframe tbody tr th {\n",
              "        vertical-align: top;\n",
              "    }\n",
              "\n",
              "    .dataframe thead th {\n",
              "        text-align: right;\n",
              "    }\n",
              "</style>\n",
              "<table border=\"1\" class=\"dataframe\">\n",
              "  <thead>\n",
              "    <tr style=\"text-align: right;\">\n",
              "      <th></th>\n",
              "      <th>filename</th>\n",
              "      <th>length</th>\n",
              "      <th>chroma_stft_mean</th>\n",
              "      <th>chroma_stft_var</th>\n",
              "      <th>rms_mean</th>\n",
              "      <th>rms_var</th>\n",
              "      <th>spectral_centroid_mean</th>\n",
              "      <th>spectral_centroid_var</th>\n",
              "      <th>spectral_bandwidth_mean</th>\n",
              "      <th>spectral_bandwidth_var</th>\n",
              "      <th>...</th>\n",
              "      <th>mfcc16_var</th>\n",
              "      <th>mfcc17_mean</th>\n",
              "      <th>mfcc17_var</th>\n",
              "      <th>mfcc18_mean</th>\n",
              "      <th>mfcc18_var</th>\n",
              "      <th>mfcc19_mean</th>\n",
              "      <th>mfcc19_var</th>\n",
              "      <th>mfcc20_mean</th>\n",
              "      <th>mfcc20_var</th>\n",
              "      <th>label</th>\n",
              "    </tr>\n",
              "  </thead>\n",
              "  <tbody>\n",
              "    <tr>\n",
              "      <th>0</th>\n",
              "      <td>blues.00000.wav</td>\n",
              "      <td>661794</td>\n",
              "      <td>0.350088</td>\n",
              "      <td>0.088757</td>\n",
              "      <td>0.130228</td>\n",
              "      <td>0.002827</td>\n",
              "      <td>1784.165850</td>\n",
              "      <td>129774.064525</td>\n",
              "      <td>2002.449060</td>\n",
              "      <td>85882.761315</td>\n",
              "      <td>...</td>\n",
              "      <td>52.420910</td>\n",
              "      <td>-1.690215</td>\n",
              "      <td>36.524071</td>\n",
              "      <td>-0.408979</td>\n",
              "      <td>41.597103</td>\n",
              "      <td>-2.303523</td>\n",
              "      <td>55.062923</td>\n",
              "      <td>1.221291</td>\n",
              "      <td>46.936035</td>\n",
              "      <td>blues</td>\n",
              "    </tr>\n",
              "    <tr>\n",
              "      <th>1</th>\n",
              "      <td>blues.00001.wav</td>\n",
              "      <td>661794</td>\n",
              "      <td>0.340914</td>\n",
              "      <td>0.094980</td>\n",
              "      <td>0.095948</td>\n",
              "      <td>0.002373</td>\n",
              "      <td>1530.176679</td>\n",
              "      <td>375850.073649</td>\n",
              "      <td>2039.036516</td>\n",
              "      <td>213843.755497</td>\n",
              "      <td>...</td>\n",
              "      <td>55.356403</td>\n",
              "      <td>-0.731125</td>\n",
              "      <td>60.314529</td>\n",
              "      <td>0.295073</td>\n",
              "      <td>48.120598</td>\n",
              "      <td>-0.283518</td>\n",
              "      <td>51.106190</td>\n",
              "      <td>0.531217</td>\n",
              "      <td>45.786282</td>\n",
              "      <td>blues</td>\n",
              "    </tr>\n",
              "    <tr>\n",
              "      <th>2</th>\n",
              "      <td>blues.00002.wav</td>\n",
              "      <td>661794</td>\n",
              "      <td>0.363637</td>\n",
              "      <td>0.085275</td>\n",
              "      <td>0.175570</td>\n",
              "      <td>0.002746</td>\n",
              "      <td>1552.811865</td>\n",
              "      <td>156467.643368</td>\n",
              "      <td>1747.702312</td>\n",
              "      <td>76254.192257</td>\n",
              "      <td>...</td>\n",
              "      <td>40.598766</td>\n",
              "      <td>-7.729093</td>\n",
              "      <td>47.639427</td>\n",
              "      <td>-1.816407</td>\n",
              "      <td>52.382141</td>\n",
              "      <td>-3.439720</td>\n",
              "      <td>46.639660</td>\n",
              "      <td>-2.231258</td>\n",
              "      <td>30.573025</td>\n",
              "      <td>blues</td>\n",
              "    </tr>\n",
              "    <tr>\n",
              "      <th>3</th>\n",
              "      <td>blues.00003.wav</td>\n",
              "      <td>661794</td>\n",
              "      <td>0.404785</td>\n",
              "      <td>0.093999</td>\n",
              "      <td>0.141093</td>\n",
              "      <td>0.006346</td>\n",
              "      <td>1070.106615</td>\n",
              "      <td>184355.942417</td>\n",
              "      <td>1596.412872</td>\n",
              "      <td>166441.494769</td>\n",
              "      <td>...</td>\n",
              "      <td>44.427753</td>\n",
              "      <td>-3.319597</td>\n",
              "      <td>50.206673</td>\n",
              "      <td>0.636965</td>\n",
              "      <td>37.319130</td>\n",
              "      <td>-0.619121</td>\n",
              "      <td>37.259739</td>\n",
              "      <td>-3.407448</td>\n",
              "      <td>31.949339</td>\n",
              "      <td>blues</td>\n",
              "    </tr>\n",
              "    <tr>\n",
              "      <th>4</th>\n",
              "      <td>blues.00004.wav</td>\n",
              "      <td>661794</td>\n",
              "      <td>0.308526</td>\n",
              "      <td>0.087841</td>\n",
              "      <td>0.091529</td>\n",
              "      <td>0.002303</td>\n",
              "      <td>1835.004266</td>\n",
              "      <td>343399.939274</td>\n",
              "      <td>1748.172116</td>\n",
              "      <td>88445.209036</td>\n",
              "      <td>...</td>\n",
              "      <td>86.099236</td>\n",
              "      <td>-5.454034</td>\n",
              "      <td>75.269707</td>\n",
              "      <td>-0.916874</td>\n",
              "      <td>53.613918</td>\n",
              "      <td>-4.404827</td>\n",
              "      <td>62.910812</td>\n",
              "      <td>-11.703234</td>\n",
              "      <td>55.195160</td>\n",
              "      <td>blues</td>\n",
              "    </tr>\n",
              "  </tbody>\n",
              "</table>\n",
              "<p>5 rows × 60 columns</p>\n",
              "</div>\n",
              "      <button class=\"colab-df-convert\" onclick=\"convertToInteractive('df-4299bb6b-c178-4350-ad66-d87c167e01c6')\"\n",
              "              title=\"Convert this dataframe to an interactive table.\"\n",
              "              style=\"display:none;\">\n",
              "        \n",
              "  <svg xmlns=\"http://www.w3.org/2000/svg\" height=\"24px\"viewBox=\"0 0 24 24\"\n",
              "       width=\"24px\">\n",
              "    <path d=\"M0 0h24v24H0V0z\" fill=\"none\"/>\n",
              "    <path d=\"M18.56 5.44l.94 2.06.94-2.06 2.06-.94-2.06-.94-.94-2.06-.94 2.06-2.06.94zm-11 1L8.5 8.5l.94-2.06 2.06-.94-2.06-.94L8.5 2.5l-.94 2.06-2.06.94zm10 10l.94 2.06.94-2.06 2.06-.94-2.06-.94-.94-2.06-.94 2.06-2.06.94z\"/><path d=\"M17.41 7.96l-1.37-1.37c-.4-.4-.92-.59-1.43-.59-.52 0-1.04.2-1.43.59L10.3 9.45l-7.72 7.72c-.78.78-.78 2.05 0 2.83L4 21.41c.39.39.9.59 1.41.59.51 0 1.02-.2 1.41-.59l7.78-7.78 2.81-2.81c.8-.78.8-2.07 0-2.86zM5.41 20L4 18.59l7.72-7.72 1.47 1.35L5.41 20z\"/>\n",
              "  </svg>\n",
              "      </button>\n",
              "      \n",
              "  <style>\n",
              "    .colab-df-container {\n",
              "      display:flex;\n",
              "      flex-wrap:wrap;\n",
              "      gap: 12px;\n",
              "    }\n",
              "\n",
              "    .colab-df-convert {\n",
              "      background-color: #E8F0FE;\n",
              "      border: none;\n",
              "      border-radius: 50%;\n",
              "      cursor: pointer;\n",
              "      display: none;\n",
              "      fill: #1967D2;\n",
              "      height: 32px;\n",
              "      padding: 0 0 0 0;\n",
              "      width: 32px;\n",
              "    }\n",
              "\n",
              "    .colab-df-convert:hover {\n",
              "      background-color: #E2EBFA;\n",
              "      box-shadow: 0px 1px 2px rgba(60, 64, 67, 0.3), 0px 1px 3px 1px rgba(60, 64, 67, 0.15);\n",
              "      fill: #174EA6;\n",
              "    }\n",
              "\n",
              "    [theme=dark] .colab-df-convert {\n",
              "      background-color: #3B4455;\n",
              "      fill: #D2E3FC;\n",
              "    }\n",
              "\n",
              "    [theme=dark] .colab-df-convert:hover {\n",
              "      background-color: #434B5C;\n",
              "      box-shadow: 0px 1px 3px 1px rgba(0, 0, 0, 0.15);\n",
              "      filter: drop-shadow(0px 1px 2px rgba(0, 0, 0, 0.3));\n",
              "      fill: #FFFFFF;\n",
              "    }\n",
              "  </style>\n",
              "\n",
              "      <script>\n",
              "        const buttonEl =\n",
              "          document.querySelector('#df-4299bb6b-c178-4350-ad66-d87c167e01c6 button.colab-df-convert');\n",
              "        buttonEl.style.display =\n",
              "          google.colab.kernel.accessAllowed ? 'block' : 'none';\n",
              "\n",
              "        async function convertToInteractive(key) {\n",
              "          const element = document.querySelector('#df-4299bb6b-c178-4350-ad66-d87c167e01c6');\n",
              "          const dataTable =\n",
              "            await google.colab.kernel.invokeFunction('convertToInteractive',\n",
              "                                                     [key], {});\n",
              "          if (!dataTable) return;\n",
              "\n",
              "          const docLinkHtml = 'Like what you see? Visit the ' +\n",
              "            '<a target=\"_blank\" href=https://colab.research.google.com/notebooks/data_table.ipynb>data table notebook</a>'\n",
              "            + ' to learn more about interactive tables.';\n",
              "          element.innerHTML = '';\n",
              "          dataTable['output_type'] = 'display_data';\n",
              "          await google.colab.output.renderOutput(dataTable, element);\n",
              "          const docLink = document.createElement('div');\n",
              "          docLink.innerHTML = docLinkHtml;\n",
              "          element.appendChild(docLink);\n",
              "        }\n",
              "      </script>\n",
              "    </div>\n",
              "  </div>\n",
              "  "
            ]
          },
          "metadata": {},
          "execution_count": 16
        }
      ]
    },
    {
      "cell_type": "markdown",
      "metadata": {
        "id": "tpTuyrDIdP5n"
      },
      "source": [
        "**Since the audio signals are constantly changing, first we divide these signals into smaller frames. Each frame is around 20-40 ms long Then we try to identify different frequencies present in each frame.**"
      ]
    },
    {
      "cell_type": "code",
      "metadata": {
        "id": "xm4J3eXrdWZg"
      },
      "source": [
        "def features_extractor(file):\n",
        "    audio, sample_rate = librosa.load(file_name, res_type='kaiser_fast')\n",
        "    mfccs_features = librosa.feature.mfcc(y=audio, sr=sample_rate, n_mfcc=40)\n",
        "    mfccs_scaled_features = np.mean(mfccs_features.T,axis=0)\n",
        "\n",
        "    return mfccs_scaled_features"
      ],
      "execution_count": null,
      "outputs": []
    },
    {
      "cell_type": "code",
      "metadata": {
        "id": "6qXrn2nLdoxl"
      },
      "source": [
        "# metadata.drop(labels=552, axis=0, inplace=True)"
      ],
      "execution_count": null,
      "outputs": []
    },
    {
      "cell_type": "code",
      "metadata": {
        "colab": {
          "base_uri": "https://localhost:8080/"
        },
        "id": "CffJEnvreSRp",
        "outputId": "6339b768-2a8c-44ef-eba3-a9efe4159f46"
      },
      "source": [
        "from tqdm import tqdm\n",
        "### Now we iterate through every audio file and extract features\n",
        "### using Mel-Frequency Cepstral Coefficients\n",
        "\n",
        "extracted_features=[]\n",
        "for index_num,row in tqdm(metadata.iterrows()):\n",
        "    try:\n",
        "        final_class_labels=row[\"label\"]\n",
        "        file_name = os.path.join(os.path.abspath(audio_dataset_path), final_class_labels+'/',str(row[\"filename\"]))\n",
        "        data=features_extractor(file_name)\n",
        "        extracted_features.append([data,final_class_labels])\n",
        "    except Exception as e:\n",
        "        print(f\"Error: {e}\")\n",
        "        continue"
      ],
      "execution_count": null,
      "outputs": [
        {
          "output_type": "stream",
          "name": "stderr",
          "text": [
            "554it [04:00,  2.67it/s]<ipython-input-33-2480e1218014>:2: UserWarning: PySoundFile failed. Trying audioread instead.\n",
            "  audio, sample_rate = librosa.load(file_name, res_type='kaiser_fast')\n",
            "/usr/local/lib/python3.10/dist-packages/librosa/core/audio.py:184: FutureWarning: librosa.core.audio.__audioread_load\n",
            "\tDeprecated as of librosa version 0.10.0.\n",
            "\tIt will be removed in librosa version 1.0.\n",
            "  y, sr_native = __audioread_load(path, offset, duration, dtype)\n",
            "555it [04:01,  2.21it/s]"
          ]
        },
        {
          "output_type": "stream",
          "name": "stdout",
          "text": [
            "Error: \n"
          ]
        },
        {
          "output_type": "stream",
          "name": "stderr",
          "text": [
            "1000it [06:55,  2.40it/s]\n"
          ]
        }
      ]
    },
    {
      "cell_type": "code",
      "metadata": {
        "colab": {
          "base_uri": "https://localhost:8080/",
          "height": 206
        },
        "id": "rzqAHItxfEmy",
        "outputId": "75425f73-77c2-4857-ceda-de10970f989a"
      },
      "source": [
        "### converting extracted_features to Pandas dataframe\n",
        "extracted_features_df=pd.DataFrame(extracted_features,columns=['feature','class'])\n",
        "extracted_features_df.head()"
      ],
      "execution_count": null,
      "outputs": [
        {
          "output_type": "execute_result",
          "data": {
            "text/plain": [
              "                                             feature  class\n",
              "0  [-113.59882, 121.57067, -19.162262, 42.36394, ...  blues\n",
              "1  [-207.52383, 123.98514, 8.94702, 35.86715, 2.9...  blues\n",
              "2  [-90.757164, 140.44087, -29.084547, 31.686693,...  blues\n",
              "3  [-199.57513, 150.0861, 5.663404, 26.855282, 1....  blues\n",
              "4  [-160.35417, 126.20948, -35.581394, 22.139256,...  blues"
            ],
            "text/html": [
              "\n",
              "  <div id=\"df-5297342a-4667-4bb2-9d8c-4388639b65dd\">\n",
              "    <div class=\"colab-df-container\">\n",
              "      <div>\n",
              "<style scoped>\n",
              "    .dataframe tbody tr th:only-of-type {\n",
              "        vertical-align: middle;\n",
              "    }\n",
              "\n",
              "    .dataframe tbody tr th {\n",
              "        vertical-align: top;\n",
              "    }\n",
              "\n",
              "    .dataframe thead th {\n",
              "        text-align: right;\n",
              "    }\n",
              "</style>\n",
              "<table border=\"1\" class=\"dataframe\">\n",
              "  <thead>\n",
              "    <tr style=\"text-align: right;\">\n",
              "      <th></th>\n",
              "      <th>feature</th>\n",
              "      <th>class</th>\n",
              "    </tr>\n",
              "  </thead>\n",
              "  <tbody>\n",
              "    <tr>\n",
              "      <th>0</th>\n",
              "      <td>[-113.59882, 121.57067, -19.162262, 42.36394, ...</td>\n",
              "      <td>blues</td>\n",
              "    </tr>\n",
              "    <tr>\n",
              "      <th>1</th>\n",
              "      <td>[-207.52383, 123.98514, 8.94702, 35.86715, 2.9...</td>\n",
              "      <td>blues</td>\n",
              "    </tr>\n",
              "    <tr>\n",
              "      <th>2</th>\n",
              "      <td>[-90.757164, 140.44087, -29.084547, 31.686693,...</td>\n",
              "      <td>blues</td>\n",
              "    </tr>\n",
              "    <tr>\n",
              "      <th>3</th>\n",
              "      <td>[-199.57513, 150.0861, 5.663404, 26.855282, 1....</td>\n",
              "      <td>blues</td>\n",
              "    </tr>\n",
              "    <tr>\n",
              "      <th>4</th>\n",
              "      <td>[-160.35417, 126.20948, -35.581394, 22.139256,...</td>\n",
              "      <td>blues</td>\n",
              "    </tr>\n",
              "  </tbody>\n",
              "</table>\n",
              "</div>\n",
              "      <button class=\"colab-df-convert\" onclick=\"convertToInteractive('df-5297342a-4667-4bb2-9d8c-4388639b65dd')\"\n",
              "              title=\"Convert this dataframe to an interactive table.\"\n",
              "              style=\"display:none;\">\n",
              "        \n",
              "  <svg xmlns=\"http://www.w3.org/2000/svg\" height=\"24px\"viewBox=\"0 0 24 24\"\n",
              "       width=\"24px\">\n",
              "    <path d=\"M0 0h24v24H0V0z\" fill=\"none\"/>\n",
              "    <path d=\"M18.56 5.44l.94 2.06.94-2.06 2.06-.94-2.06-.94-.94-2.06-.94 2.06-2.06.94zm-11 1L8.5 8.5l.94-2.06 2.06-.94-2.06-.94L8.5 2.5l-.94 2.06-2.06.94zm10 10l.94 2.06.94-2.06 2.06-.94-2.06-.94-.94-2.06-.94 2.06-2.06.94z\"/><path d=\"M17.41 7.96l-1.37-1.37c-.4-.4-.92-.59-1.43-.59-.52 0-1.04.2-1.43.59L10.3 9.45l-7.72 7.72c-.78.78-.78 2.05 0 2.83L4 21.41c.39.39.9.59 1.41.59.51 0 1.02-.2 1.41-.59l7.78-7.78 2.81-2.81c.8-.78.8-2.07 0-2.86zM5.41 20L4 18.59l7.72-7.72 1.47 1.35L5.41 20z\"/>\n",
              "  </svg>\n",
              "      </button>\n",
              "      \n",
              "  <style>\n",
              "    .colab-df-container {\n",
              "      display:flex;\n",
              "      flex-wrap:wrap;\n",
              "      gap: 12px;\n",
              "    }\n",
              "\n",
              "    .colab-df-convert {\n",
              "      background-color: #E8F0FE;\n",
              "      border: none;\n",
              "      border-radius: 50%;\n",
              "      cursor: pointer;\n",
              "      display: none;\n",
              "      fill: #1967D2;\n",
              "      height: 32px;\n",
              "      padding: 0 0 0 0;\n",
              "      width: 32px;\n",
              "    }\n",
              "\n",
              "    .colab-df-convert:hover {\n",
              "      background-color: #E2EBFA;\n",
              "      box-shadow: 0px 1px 2px rgba(60, 64, 67, 0.3), 0px 1px 3px 1px rgba(60, 64, 67, 0.15);\n",
              "      fill: #174EA6;\n",
              "    }\n",
              "\n",
              "    [theme=dark] .colab-df-convert {\n",
              "      background-color: #3B4455;\n",
              "      fill: #D2E3FC;\n",
              "    }\n",
              "\n",
              "    [theme=dark] .colab-df-convert:hover {\n",
              "      background-color: #434B5C;\n",
              "      box-shadow: 0px 1px 3px 1px rgba(0, 0, 0, 0.15);\n",
              "      filter: drop-shadow(0px 1px 2px rgba(0, 0, 0, 0.3));\n",
              "      fill: #FFFFFF;\n",
              "    }\n",
              "  </style>\n",
              "\n",
              "      <script>\n",
              "        const buttonEl =\n",
              "          document.querySelector('#df-5297342a-4667-4bb2-9d8c-4388639b65dd button.colab-df-convert');\n",
              "        buttonEl.style.display =\n",
              "          google.colab.kernel.accessAllowed ? 'block' : 'none';\n",
              "\n",
              "        async function convertToInteractive(key) {\n",
              "          const element = document.querySelector('#df-5297342a-4667-4bb2-9d8c-4388639b65dd');\n",
              "          const dataTable =\n",
              "            await google.colab.kernel.invokeFunction('convertToInteractive',\n",
              "                                                     [key], {});\n",
              "          if (!dataTable) return;\n",
              "\n",
              "          const docLinkHtml = 'Like what you see? Visit the ' +\n",
              "            '<a target=\"_blank\" href=https://colab.research.google.com/notebooks/data_table.ipynb>data table notebook</a>'\n",
              "            + ' to learn more about interactive tables.';\n",
              "          element.innerHTML = '';\n",
              "          dataTable['output_type'] = 'display_data';\n",
              "          await google.colab.output.renderOutput(dataTable, element);\n",
              "          const docLink = document.createElement('div');\n",
              "          docLink.innerHTML = docLinkHtml;\n",
              "          element.appendChild(docLink);\n",
              "        }\n",
              "      </script>\n",
              "    </div>\n",
              "  </div>\n",
              "  "
            ]
          },
          "metadata": {},
          "execution_count": 35
        }
      ]
    },
    {
      "cell_type": "code",
      "metadata": {
        "colab": {
          "base_uri": "https://localhost:8080/"
        },
        "id": "n0FbC4j7jyaN",
        "outputId": "3345a5b9-d22e-48a0-e7c2-8197ce48d35a"
      },
      "source": [
        "extracted_features_df['class'].value_counts()"
      ],
      "execution_count": null,
      "outputs": [
        {
          "output_type": "execute_result",
          "data": {
            "text/plain": [
              "blues        100\n",
              "classical    100\n",
              "country      100\n",
              "disco        100\n",
              "hiphop       100\n",
              "metal        100\n",
              "pop          100\n",
              "reggae       100\n",
              "rock         100\n",
              "jazz          99\n",
              "Name: class, dtype: int64"
            ]
          },
          "metadata": {},
          "execution_count": 36
        }
      ]
    },
    {
      "cell_type": "markdown",
      "metadata": {
        "id": "he16T-G3mR8f"
      },
      "source": [
        "**Split the dataset into independent and dependent dataset**"
      ]
    },
    {
      "cell_type": "code",
      "metadata": {
        "id": "Q_LkXxmwmUf6"
      },
      "source": [
        "X=np.array(extracted_features_df['feature'].tolist())\n",
        "y=np.array(extracted_features_df['class'].tolist())"
      ],
      "execution_count": null,
      "outputs": []
    },
    {
      "cell_type": "code",
      "metadata": {
        "colab": {
          "base_uri": "https://localhost:8080/"
        },
        "id": "5K0QPhtWmeve",
        "outputId": "2763b9e7-29d5-4ac6-ff81-878a0ba3ceb5"
      },
      "source": [
        "X.shape"
      ],
      "execution_count": null,
      "outputs": [
        {
          "output_type": "execute_result",
          "data": {
            "text/plain": [
              "(999, 40)"
            ]
          },
          "metadata": {},
          "execution_count": 38
        }
      ]
    },
    {
      "cell_type": "code",
      "metadata": {
        "id": "CBfJqeM-mwVj"
      },
      "source": [
        "from tensorflow.keras.utils import to_categorical\n",
        "from sklearn.preprocessing import LabelEncoder\n",
        "labelencoder=LabelEncoder()\n",
        "y=to_categorical(labelencoder.fit_transform(y))"
      ],
      "execution_count": null,
      "outputs": []
    },
    {
      "cell_type": "code",
      "metadata": {
        "id": "v1vUCDX1myYt",
        "colab": {
          "base_uri": "https://localhost:8080/"
        },
        "outputId": "f0f5ca0d-4cc6-425e-e413-d17358c7a0b6"
      },
      "source": [
        "y.shape"
      ],
      "execution_count": null,
      "outputs": [
        {
          "output_type": "execute_result",
          "data": {
            "text/plain": [
              "(999, 10)"
            ]
          },
          "metadata": {},
          "execution_count": 40
        }
      ]
    },
    {
      "cell_type": "code",
      "metadata": {
        "id": "G7bma7-QfOD6"
      },
      "source": [
        "from sklearn.model_selection import train_test_split\n",
        "X_train,X_test,y_train,y_test=train_test_split(X,y,test_size=0.2,random_state=0)"
      ],
      "execution_count": null,
      "outputs": []
    },
    {
      "cell_type": "code",
      "metadata": {
        "colab": {
          "base_uri": "https://localhost:8080/"
        },
        "id": "bna9gGjSftz1",
        "outputId": "b97a791a-2b17-4583-c982-34bc691b6775"
      },
      "source": [
        "X_train"
      ],
      "execution_count": null,
      "outputs": [
        {
          "output_type": "execute_result",
          "data": {
            "text/plain": [
              "array([[ 2.6653410e+01,  7.9789711e+01, -5.2055866e+01, ...,\n",
              "        -1.4430333e+00, -1.2734197e+00, -5.9081388e+00],\n",
              "       [-1.4495711e+02,  1.1846496e+02,  2.0525068e+01, ...,\n",
              "         1.8998557e+00, -1.8821739e+00, -1.8517891e+00],\n",
              "       [-6.6108925e+01,  9.7883812e+01, -1.8831676e+01, ...,\n",
              "        -1.2424636e+00, -6.3691193e-01, -1.3383396e+00],\n",
              "       ...,\n",
              "       [-7.7426697e+01,  1.3087869e+02, -2.3275221e+01, ...,\n",
              "        -4.2062173e+00, -3.5183537e+00,  2.6050334e+00],\n",
              "       [-1.9040649e+02,  1.2951292e+02, -7.8296256e+00, ...,\n",
              "        -2.2419319e+00, -3.9879441e+00, -1.9877433e+00],\n",
              "       [-4.6609550e+01,  8.6802017e+01, -3.4776672e+01, ...,\n",
              "         1.4676012e-01,  9.2151541e-01, -8.7239444e-01]], dtype=float32)"
            ]
          },
          "metadata": {},
          "execution_count": 42
        }
      ]
    },
    {
      "cell_type": "code",
      "metadata": {
        "colab": {
          "base_uri": "https://localhost:8080/"
        },
        "id": "kC_Del8nxsod",
        "outputId": "e21f2996-f133-4eeb-ab64-66df44e453ac"
      },
      "source": [
        "print(X_train.shape)\n",
        "print(X_test.shape)\n",
        "print(y_train.shape)\n",
        "print(y_test.shape)"
      ],
      "execution_count": null,
      "outputs": [
        {
          "output_type": "stream",
          "name": "stdout",
          "text": [
            "(799, 40)\n",
            "(200, 40)\n",
            "(799, 10)\n",
            "(200, 10)\n"
          ]
        }
      ]
    },
    {
      "cell_type": "code",
      "metadata": {
        "id": "7FkHbzN9xwlG"
      },
      "source": [
        "from tensorflow.keras.models import Sequential\n",
        "from tensorflow.keras.layers import Dense,Dropout,Activation,Flatten\n",
        "from tensorflow.keras.optimizers import Adam\n",
        "from sklearn import metrics"
      ],
      "execution_count": null,
      "outputs": []
    },
    {
      "cell_type": "code",
      "metadata": {
        "id": "0dx20M_zx8Iu"
      },
      "source": [
        "### No of classes\n",
        "num_labels=y.shape[1]"
      ],
      "execution_count": null,
      "outputs": []
    },
    {
      "cell_type": "code",
      "metadata": {
        "id": "4kHCTTqVx2x-"
      },
      "source": [
        "model=Sequential()\n",
        "model.add(Dense(1024,input_shape=(40,), activation=\"relu\"))\n",
        "model.add(Dropout(0.3))\n",
        "model.add(Dense(512, activation=\"relu\"))\n",
        "model.add(Dropout(0.3))\n",
        "model.add(Dense(256, activation=\"relu\"))\n",
        "model.add(Dropout(0.3))\n",
        "model.add(Dense(128, activation=\"relu\"))\n",
        "model.add(Dropout(0.3))\n",
        "model.add(Dense(64, activation=\"relu\"))\n",
        "model.add(Dropout(0.3))\n",
        "model.add(Dense(32, activation=\"relu\"))\n",
        "model.add(Dropout(0.3))\n",
        "\n",
        "###final layer\n",
        "model.add(Dense(num_labels, activation=\"softmax\"))"
      ],
      "execution_count": null,
      "outputs": []
    },
    {
      "cell_type": "code",
      "metadata": {
        "colab": {
          "base_uri": "https://localhost:8080/"
        },
        "id": "pEyreEyDyARs",
        "outputId": "c7a1ad99-7722-4d90-f960-a15f63bc5d85"
      },
      "source": [
        "model.summary()"
      ],
      "execution_count": null,
      "outputs": [
        {
          "output_type": "stream",
          "name": "stdout",
          "text": [
            "Model: \"sequential\"\n",
            "_________________________________________________________________\n",
            " Layer (type)                Output Shape              Param #   \n",
            "=================================================================\n",
            " dense (Dense)               (None, 1024)              41984     \n",
            "                                                                 \n",
            " dropout (Dropout)           (None, 1024)              0         \n",
            "                                                                 \n",
            " dense_1 (Dense)             (None, 512)               524800    \n",
            "                                                                 \n",
            " dropout_1 (Dropout)         (None, 512)               0         \n",
            "                                                                 \n",
            " dense_2 (Dense)             (None, 256)               131328    \n",
            "                                                                 \n",
            " dropout_2 (Dropout)         (None, 256)               0         \n",
            "                                                                 \n",
            " dense_3 (Dense)             (None, 128)               32896     \n",
            "                                                                 \n",
            " dropout_3 (Dropout)         (None, 128)               0         \n",
            "                                                                 \n",
            " dense_4 (Dense)             (None, 64)                8256      \n",
            "                                                                 \n",
            " dropout_4 (Dropout)         (None, 64)                0         \n",
            "                                                                 \n",
            " dense_5 (Dense)             (None, 32)                2080      \n",
            "                                                                 \n",
            " dropout_5 (Dropout)         (None, 32)                0         \n",
            "                                                                 \n",
            " dense_6 (Dense)             (None, 10)                330       \n",
            "                                                                 \n",
            "=================================================================\n",
            "Total params: 741,674\n",
            "Trainable params: 741,674\n",
            "Non-trainable params: 0\n",
            "_________________________________________________________________\n"
          ]
        }
      ]
    },
    {
      "cell_type": "code",
      "metadata": {
        "id": "HFTMbMXsyGTo"
      },
      "source": [
        "model.compile(loss='categorical_crossentropy',metrics=['accuracy'],optimizer='adam')"
      ],
      "execution_count": null,
      "outputs": []
    },
    {
      "cell_type": "code",
      "metadata": {
        "id": "_xA9WXx7yKBD"
      },
      "source": [
        "import time\n",
        "t = time.localtime()\n",
        "current_time = time.strftime(\"%H:%M:%S\", t)"
      ],
      "execution_count": null,
      "outputs": []
    },
    {
      "cell_type": "code",
      "metadata": {
        "colab": {
          "base_uri": "https://localhost:8080/"
        },
        "id": "2jh02QP8yZmt",
        "outputId": "b1fa2331-00a1-486f-c122-0effce414047"
      },
      "source": [
        "\n",
        "## Trianing my model\n",
        "from tensorflow.keras.callbacks import ModelCheckpoint\n",
        "from datetime import datetime\n",
        "\n",
        "num_epochs = 100\n",
        "num_batch_size = 32\n",
        "\n",
        "checkpointer = ModelCheckpoint(filepath=f'saved_models/audio_classification_{current_time}.hdf5',\n",
        "                               verbose=1, save_best_only=True)\n",
        "start = datetime.now()\n",
        "\n",
        "history = model.fit(X_train, y_train, batch_size=num_batch_size, epochs=num_epochs, validation_data=(X_test, y_test), callbacks=[checkpointer], verbose=1)\n",
        "\n",
        "\n",
        "duration = datetime.now() - start\n",
        "print(\"Training completed in time: \", duration)"
      ],
      "execution_count": null,
      "outputs": [
        {
          "output_type": "stream",
          "name": "stdout",
          "text": [
            "Epoch 1/100\n",
            "24/25 [===========================>..] - ETA: 0s - loss: 4.3703 - accuracy: 0.1159\n",
            "Epoch 00001: val_loss improved from inf to 2.26281, saving model to saved_models/audio_classification_05:07:57.hdf5\n",
            "25/25 [==============================] - 2s 26ms/step - loss: 4.3070 - accuracy: 0.1151 - val_loss: 2.2628 - val_accuracy: 0.1300\n",
            "Epoch 2/100\n",
            "24/25 [===========================>..] - ETA: 0s - loss: 2.6247 - accuracy: 0.1146\n",
            "Epoch 00002: val_loss did not improve from 2.26281\n",
            "25/25 [==============================] - 0s 14ms/step - loss: 2.6098 - accuracy: 0.1214 - val_loss: 2.2691 - val_accuracy: 0.1450\n",
            "Epoch 3/100\n",
            "21/25 [========================>.....] - ETA: 0s - loss: 2.4047 - accuracy: 0.1146\n",
            "Epoch 00003: val_loss improved from 2.26281 to 2.24263, saving model to saved_models/audio_classification_05:07:57.hdf5\n",
            "25/25 [==============================] - 0s 18ms/step - loss: 2.3976 - accuracy: 0.1189 - val_loss: 2.2426 - val_accuracy: 0.2050\n",
            "Epoch 4/100\n",
            "22/25 [=========================>....] - ETA: 0s - loss: 2.2919 - accuracy: 0.1491\n",
            "Epoch 00004: val_loss improved from 2.24263 to 2.21707, saving model to saved_models/audio_classification_05:07:57.hdf5\n",
            "25/25 [==============================] - 0s 18ms/step - loss: 2.2817 - accuracy: 0.1514 - val_loss: 2.2171 - val_accuracy: 0.1750\n",
            "Epoch 5/100\n",
            "23/25 [==========================>...] - ETA: 0s - loss: 2.2688 - accuracy: 0.1562\n",
            "Epoch 00005: val_loss improved from 2.21707 to 2.19156, saving model to saved_models/audio_classification_05:07:57.hdf5\n",
            "25/25 [==============================] - 0s 18ms/step - loss: 2.2681 - accuracy: 0.1589 - val_loss: 2.1916 - val_accuracy: 0.2000\n",
            "Epoch 6/100\n",
            "23/25 [==========================>...] - ETA: 0s - loss: 2.2599 - accuracy: 0.1658\n",
            "Epoch 00006: val_loss improved from 2.19156 to 2.16561, saving model to saved_models/audio_classification_05:07:57.hdf5\n",
            "25/25 [==============================] - 0s 18ms/step - loss: 2.2576 - accuracy: 0.1640 - val_loss: 2.1656 - val_accuracy: 0.2000\n",
            "Epoch 7/100\n",
            "25/25 [==============================] - ETA: 0s - loss: 2.2220 - accuracy: 0.1840\n",
            "Epoch 00007: val_loss improved from 2.16561 to 2.12805, saving model to saved_models/audio_classification_05:07:57.hdf5\n",
            "25/25 [==============================] - 0s 19ms/step - loss: 2.2220 - accuracy: 0.1840 - val_loss: 2.1281 - val_accuracy: 0.2300\n",
            "Epoch 8/100\n",
            "24/25 [===========================>..] - ETA: 0s - loss: 2.1824 - accuracy: 0.1888\n",
            "Epoch 00008: val_loss improved from 2.12805 to 2.08527, saving model to saved_models/audio_classification_05:07:57.hdf5\n",
            "25/25 [==============================] - 0s 18ms/step - loss: 2.1857 - accuracy: 0.1902 - val_loss: 2.0853 - val_accuracy: 0.2200\n",
            "Epoch 9/100\n",
            "24/25 [===========================>..] - ETA: 0s - loss: 2.1102 - accuracy: 0.2305\n",
            "Epoch 00009: val_loss did not improve from 2.08527\n",
            "25/25 [==============================] - 0s 14ms/step - loss: 2.1043 - accuracy: 0.2290 - val_loss: 2.1015 - val_accuracy: 0.2500\n",
            "Epoch 10/100\n",
            "22/25 [=========================>....] - ETA: 0s - loss: 2.0634 - accuracy: 0.2173\n",
            "Epoch 00010: val_loss improved from 2.08527 to 2.06874, saving model to saved_models/audio_classification_05:07:57.hdf5\n",
            "25/25 [==============================] - 0s 19ms/step - loss: 2.0834 - accuracy: 0.2165 - val_loss: 2.0687 - val_accuracy: 0.2300\n",
            "Epoch 11/100\n",
            "22/25 [=========================>....] - ETA: 0s - loss: 2.0889 - accuracy: 0.2358\n",
            "Epoch 00011: val_loss improved from 2.06874 to 2.03162, saving model to saved_models/audio_classification_05:07:57.hdf5\n",
            "25/25 [==============================] - 0s 19ms/step - loss: 2.0856 - accuracy: 0.2315 - val_loss: 2.0316 - val_accuracy: 0.2550\n",
            "Epoch 12/100\n",
            "24/25 [===========================>..] - ETA: 0s - loss: 2.1113 - accuracy: 0.2396\n",
            "Epoch 00012: val_loss did not improve from 2.03162\n",
            "25/25 [==============================] - 0s 16ms/step - loss: 2.1119 - accuracy: 0.2390 - val_loss: 2.0757 - val_accuracy: 0.2300\n",
            "Epoch 13/100\n",
            "22/25 [=========================>....] - ETA: 0s - loss: 2.0834 - accuracy: 0.2415\n",
            "Epoch 00013: val_loss improved from 2.03162 to 2.03007, saving model to saved_models/audio_classification_05:07:57.hdf5\n",
            "25/25 [==============================] - 0s 19ms/step - loss: 2.0771 - accuracy: 0.2403 - val_loss: 2.0301 - val_accuracy: 0.2600\n",
            "Epoch 14/100\n",
            "23/25 [==========================>...] - ETA: 0s - loss: 2.0654 - accuracy: 0.2391\n",
            "Epoch 00014: val_loss improved from 2.03007 to 2.01587, saving model to saved_models/audio_classification_05:07:57.hdf5\n",
            "25/25 [==============================] - 0s 19ms/step - loss: 2.0488 - accuracy: 0.2466 - val_loss: 2.0159 - val_accuracy: 0.2700\n",
            "Epoch 15/100\n",
            "25/25 [==============================] - ETA: 0s - loss: 2.0483 - accuracy: 0.2628\n",
            "Epoch 00015: val_loss improved from 2.01587 to 1.98679, saving model to saved_models/audio_classification_05:07:57.hdf5\n",
            "25/25 [==============================] - 0s 19ms/step - loss: 2.0483 - accuracy: 0.2628 - val_loss: 1.9868 - val_accuracy: 0.2650\n",
            "Epoch 16/100\n",
            "25/25 [==============================] - ETA: 0s - loss: 1.9899 - accuracy: 0.2791\n",
            "Epoch 00016: val_loss did not improve from 1.98679\n",
            "25/25 [==============================] - 0s 15ms/step - loss: 1.9899 - accuracy: 0.2791 - val_loss: 1.9971 - val_accuracy: 0.2950\n",
            "Epoch 17/100\n",
            "21/25 [========================>.....] - ETA: 0s - loss: 2.0157 - accuracy: 0.2649\n",
            "Epoch 00017: val_loss improved from 1.98679 to 1.97481, saving model to saved_models/audio_classification_05:07:57.hdf5\n",
            "25/25 [==============================] - 0s 18ms/step - loss: 1.9929 - accuracy: 0.2778 - val_loss: 1.9748 - val_accuracy: 0.2950\n",
            "Epoch 18/100\n",
            "24/25 [===========================>..] - ETA: 0s - loss: 1.9562 - accuracy: 0.3138\n",
            "Epoch 00018: val_loss improved from 1.97481 to 1.95445, saving model to saved_models/audio_classification_05:07:57.hdf5\n",
            "25/25 [==============================] - 0s 17ms/step - loss: 1.9551 - accuracy: 0.3141 - val_loss: 1.9545 - val_accuracy: 0.3200\n",
            "Epoch 19/100\n",
            "22/25 [=========================>....] - ETA: 0s - loss: 1.9605 - accuracy: 0.2812\n",
            "Epoch 00019: val_loss did not improve from 1.95445\n",
            "25/25 [==============================] - 0s 14ms/step - loss: 1.9529 - accuracy: 0.2854 - val_loss: 1.9548 - val_accuracy: 0.3250\n",
            "Epoch 20/100\n",
            "24/25 [===========================>..] - ETA: 0s - loss: 1.9468 - accuracy: 0.3164\n",
            "Epoch 00020: val_loss improved from 1.95445 to 1.87967, saving model to saved_models/audio_classification_05:07:57.hdf5\n",
            "25/25 [==============================] - 0s 17ms/step - loss: 1.9492 - accuracy: 0.3217 - val_loss: 1.8797 - val_accuracy: 0.3250\n",
            "Epoch 21/100\n",
            "22/25 [=========================>....] - ETA: 0s - loss: 1.8546 - accuracy: 0.3168\n",
            "Epoch 00021: val_loss improved from 1.87967 to 1.82151, saving model to saved_models/audio_classification_05:07:57.hdf5\n",
            "25/25 [==============================] - 0s 18ms/step - loss: 1.8489 - accuracy: 0.3154 - val_loss: 1.8215 - val_accuracy: 0.3450\n",
            "Epoch 22/100\n",
            "24/25 [===========================>..] - ETA: 0s - loss: 1.8522 - accuracy: 0.3490\n",
            "Epoch 00022: val_loss improved from 1.82151 to 1.76056, saving model to saved_models/audio_classification_05:07:57.hdf5\n",
            "25/25 [==============================] - 0s 17ms/step - loss: 1.8441 - accuracy: 0.3504 - val_loss: 1.7606 - val_accuracy: 0.3200\n",
            "Epoch 23/100\n",
            "22/25 [=========================>....] - ETA: 0s - loss: 1.8493 - accuracy: 0.3395\n",
            "Epoch 00023: val_loss did not improve from 1.76056\n",
            "25/25 [==============================] - 0s 14ms/step - loss: 1.8470 - accuracy: 0.3429 - val_loss: 1.7670 - val_accuracy: 0.3550\n",
            "Epoch 24/100\n",
            "23/25 [==========================>...] - ETA: 0s - loss: 1.8172 - accuracy: 0.3465\n",
            "Epoch 00024: val_loss improved from 1.76056 to 1.75594, saving model to saved_models/audio_classification_05:07:57.hdf5\n",
            "25/25 [==============================] - 0s 19ms/step - loss: 1.7934 - accuracy: 0.3517 - val_loss: 1.7559 - val_accuracy: 0.2950\n",
            "Epoch 25/100\n",
            "24/25 [===========================>..] - ETA: 0s - loss: 1.7856 - accuracy: 0.3333\n",
            "Epoch 00025: val_loss did not improve from 1.75594\n",
            "25/25 [==============================] - 0s 14ms/step - loss: 1.7894 - accuracy: 0.3304 - val_loss: 1.8352 - val_accuracy: 0.2800\n",
            "Epoch 26/100\n",
            "22/25 [=========================>....] - ETA: 0s - loss: 1.7325 - accuracy: 0.3423\n",
            "Epoch 00026: val_loss improved from 1.75594 to 1.74711, saving model to saved_models/audio_classification_05:07:57.hdf5\n",
            "25/25 [==============================] - 0s 18ms/step - loss: 1.7518 - accuracy: 0.3417 - val_loss: 1.7471 - val_accuracy: 0.3400\n",
            "Epoch 27/100\n",
            "23/25 [==========================>...] - ETA: 0s - loss: 1.7175 - accuracy: 0.3410\n",
            "Epoch 00027: val_loss did not improve from 1.74711\n",
            "25/25 [==============================] - 0s 14ms/step - loss: 1.7030 - accuracy: 0.3454 - val_loss: 1.7499 - val_accuracy: 0.3350\n",
            "Epoch 28/100\n",
            "23/25 [==========================>...] - ETA: 0s - loss: 1.6968 - accuracy: 0.3601\n",
            "Epoch 00028: val_loss improved from 1.74711 to 1.71624, saving model to saved_models/audio_classification_05:07:57.hdf5\n",
            "25/25 [==============================] - 0s 17ms/step - loss: 1.7107 - accuracy: 0.3517 - val_loss: 1.7162 - val_accuracy: 0.3500\n",
            "Epoch 29/100\n",
            "23/25 [==========================>...] - ETA: 0s - loss: 1.6502 - accuracy: 0.3777\n",
            "Epoch 00029: val_loss improved from 1.71624 to 1.71145, saving model to saved_models/audio_classification_05:07:57.hdf5\n",
            "25/25 [==============================] - 0s 18ms/step - loss: 1.6492 - accuracy: 0.3792 - val_loss: 1.7115 - val_accuracy: 0.3500\n",
            "Epoch 30/100\n",
            "24/25 [===========================>..] - ETA: 0s - loss: 1.6420 - accuracy: 0.4049\n",
            "Epoch 00030: val_loss improved from 1.71145 to 1.70133, saving model to saved_models/audio_classification_05:07:57.hdf5\n",
            "25/25 [==============================] - 0s 18ms/step - loss: 1.6466 - accuracy: 0.4043 - val_loss: 1.7013 - val_accuracy: 0.3150\n",
            "Epoch 31/100\n",
            "21/25 [========================>.....] - ETA: 0s - loss: 1.7177 - accuracy: 0.3676\n",
            "Epoch 00031: val_loss improved from 1.70133 to 1.68537, saving model to saved_models/audio_classification_05:07:57.hdf5\n",
            "25/25 [==============================] - 0s 19ms/step - loss: 1.6846 - accuracy: 0.3792 - val_loss: 1.6854 - val_accuracy: 0.3650\n",
            "Epoch 32/100\n",
            "22/25 [=========================>....] - ETA: 0s - loss: 1.6038 - accuracy: 0.3991\n",
            "Epoch 00032: val_loss did not improve from 1.68537\n",
            "25/25 [==============================] - 0s 14ms/step - loss: 1.6304 - accuracy: 0.3880 - val_loss: 1.7048 - val_accuracy: 0.3150\n",
            "Epoch 33/100\n",
            "24/25 [===========================>..] - ETA: 0s - loss: 1.6274 - accuracy: 0.3737\n",
            "Epoch 00033: val_loss did not improve from 1.68537\n",
            "25/25 [==============================] - 0s 14ms/step - loss: 1.6223 - accuracy: 0.3730 - val_loss: 1.6907 - val_accuracy: 0.3250\n",
            "Epoch 34/100\n",
            "24/25 [===========================>..] - ETA: 0s - loss: 1.5797 - accuracy: 0.4089\n",
            "Epoch 00034: val_loss improved from 1.68537 to 1.64962, saving model to saved_models/audio_classification_05:07:57.hdf5\n",
            "25/25 [==============================] - 0s 17ms/step - loss: 1.5868 - accuracy: 0.4030 - val_loss: 1.6496 - val_accuracy: 0.3450\n",
            "Epoch 35/100\n",
            "22/25 [=========================>....] - ETA: 0s - loss: 1.6342 - accuracy: 0.3864\n",
            "Epoch 00035: val_loss did not improve from 1.64962\n",
            "25/25 [==============================] - 0s 14ms/step - loss: 1.6166 - accuracy: 0.3905 - val_loss: 1.6813 - val_accuracy: 0.3600\n",
            "Epoch 36/100\n",
            "22/25 [=========================>....] - ETA: 0s - loss: 1.5959 - accuracy: 0.4190\n",
            "Epoch 00036: val_loss did not improve from 1.64962\n",
            "25/25 [==============================] - 0s 15ms/step - loss: 1.5930 - accuracy: 0.4130 - val_loss: 1.6558 - val_accuracy: 0.4000\n",
            "Epoch 37/100\n",
            "23/25 [==========================>...] - ETA: 0s - loss: 1.5832 - accuracy: 0.4171\n",
            "Epoch 00037: val_loss did not improve from 1.64962\n",
            "25/25 [==============================] - 0s 16ms/step - loss: 1.5887 - accuracy: 0.4143 - val_loss: 1.6794 - val_accuracy: 0.3950\n",
            "Epoch 38/100\n",
            "22/25 [=========================>....] - ETA: 0s - loss: 1.5448 - accuracy: 0.4162\n",
            "Epoch 00038: val_loss did not improve from 1.64962\n",
            "25/25 [==============================] - 0s 14ms/step - loss: 1.5405 - accuracy: 0.4118 - val_loss: 1.6749 - val_accuracy: 0.3500\n",
            "Epoch 39/100\n",
            "22/25 [=========================>....] - ETA: 0s - loss: 1.5628 - accuracy: 0.4190\n",
            "Epoch 00039: val_loss did not improve from 1.64962\n",
            "25/25 [==============================] - 0s 15ms/step - loss: 1.5502 - accuracy: 0.4243 - val_loss: 1.6564 - val_accuracy: 0.3800\n",
            "Epoch 40/100\n",
            "25/25 [==============================] - ETA: 0s - loss: 1.5227 - accuracy: 0.4130\n",
            "Epoch 00040: val_loss did not improve from 1.64962\n",
            "25/25 [==============================] - 0s 17ms/step - loss: 1.5227 - accuracy: 0.4130 - val_loss: 1.7121 - val_accuracy: 0.3850\n",
            "Epoch 41/100\n",
            "21/25 [========================>.....] - ETA: 0s - loss: 1.5003 - accuracy: 0.4390\n",
            "Epoch 00041: val_loss improved from 1.64962 to 1.63359, saving model to saved_models/audio_classification_05:07:57.hdf5\n",
            "25/25 [==============================] - 0s 19ms/step - loss: 1.5166 - accuracy: 0.4268 - val_loss: 1.6336 - val_accuracy: 0.3650\n",
            "Epoch 42/100\n",
            "25/25 [==============================] - ETA: 0s - loss: 1.4611 - accuracy: 0.4606\n",
            "Epoch 00042: val_loss improved from 1.63359 to 1.60832, saving model to saved_models/audio_classification_05:07:57.hdf5\n",
            "25/25 [==============================] - 0s 19ms/step - loss: 1.4611 - accuracy: 0.4606 - val_loss: 1.6083 - val_accuracy: 0.3950\n",
            "Epoch 43/100\n",
            "22/25 [=========================>....] - ETA: 0s - loss: 1.4673 - accuracy: 0.4531\n",
            "Epoch 00043: val_loss improved from 1.60832 to 1.59560, saving model to saved_models/audio_classification_05:07:57.hdf5\n",
            "25/25 [==============================] - 0s 19ms/step - loss: 1.4627 - accuracy: 0.4606 - val_loss: 1.5956 - val_accuracy: 0.3900\n",
            "Epoch 44/100\n",
            "22/25 [=========================>....] - ETA: 0s - loss: 1.4751 - accuracy: 0.4389\n",
            "Epoch 00044: val_loss did not improve from 1.59560\n",
            "25/25 [==============================] - 0s 15ms/step - loss: 1.4710 - accuracy: 0.4406 - val_loss: 1.6765 - val_accuracy: 0.3950\n",
            "Epoch 45/100\n",
            "23/25 [==========================>...] - ETA: 0s - loss: 1.4944 - accuracy: 0.4321\n",
            "Epoch 00045: val_loss did not improve from 1.59560\n",
            "25/25 [==============================] - 0s 14ms/step - loss: 1.4717 - accuracy: 0.4481 - val_loss: 1.6546 - val_accuracy: 0.4650\n",
            "Epoch 46/100\n",
            "24/25 [===========================>..] - ETA: 0s - loss: 1.4569 - accuracy: 0.4661\n",
            "Epoch 00046: val_loss did not improve from 1.59560\n",
            "25/25 [==============================] - 0s 15ms/step - loss: 1.4555 - accuracy: 0.4668 - val_loss: 1.6039 - val_accuracy: 0.4300\n",
            "Epoch 47/100\n",
            "25/25 [==============================] - ETA: 0s - loss: 1.4315 - accuracy: 0.4706\n",
            "Epoch 00047: val_loss did not improve from 1.59560\n",
            "25/25 [==============================] - 0s 16ms/step - loss: 1.4315 - accuracy: 0.4706 - val_loss: 1.6347 - val_accuracy: 0.4050\n",
            "Epoch 48/100\n",
            "25/25 [==============================] - ETA: 0s - loss: 1.4358 - accuracy: 0.4756\n",
            "Epoch 00048: val_loss did not improve from 1.59560\n",
            "25/25 [==============================] - 0s 16ms/step - loss: 1.4358 - accuracy: 0.4756 - val_loss: 1.6964 - val_accuracy: 0.4250\n",
            "Epoch 49/100\n",
            "22/25 [=========================>....] - ETA: 0s - loss: 1.4123 - accuracy: 0.4957\n",
            "Epoch 00049: val_loss did not improve from 1.59560\n",
            "25/25 [==============================] - 0s 15ms/step - loss: 1.4200 - accuracy: 0.4856 - val_loss: 1.6492 - val_accuracy: 0.4150\n",
            "Epoch 50/100\n",
            "22/25 [=========================>....] - ETA: 0s - loss: 1.4307 - accuracy: 0.4531\n",
            "Epoch 00050: val_loss improved from 1.59560 to 1.56601, saving model to saved_models/audio_classification_05:07:57.hdf5\n",
            "25/25 [==============================] - 0s 20ms/step - loss: 1.4172 - accuracy: 0.4606 - val_loss: 1.5660 - val_accuracy: 0.4550\n",
            "Epoch 51/100\n",
            "25/25 [==============================] - ETA: 0s - loss: 1.3411 - accuracy: 0.5119\n",
            "Epoch 00051: val_loss did not improve from 1.56601\n",
            "25/25 [==============================] - 0s 15ms/step - loss: 1.3411 - accuracy: 0.5119 - val_loss: 1.6096 - val_accuracy: 0.4350\n",
            "Epoch 52/100\n",
            "25/25 [==============================] - ETA: 0s - loss: 1.3515 - accuracy: 0.4819\n",
            "Epoch 00052: val_loss did not improve from 1.56601\n",
            "25/25 [==============================] - 0s 16ms/step - loss: 1.3515 - accuracy: 0.4819 - val_loss: 1.6180 - val_accuracy: 0.4750\n",
            "Epoch 53/100\n",
            "25/25 [==============================] - ETA: 0s - loss: 1.3894 - accuracy: 0.5106\n",
            "Epoch 00053: val_loss did not improve from 1.56601\n",
            "25/25 [==============================] - 0s 16ms/step - loss: 1.3894 - accuracy: 0.5106 - val_loss: 1.6731 - val_accuracy: 0.4500\n",
            "Epoch 54/100\n",
            "24/25 [===========================>..] - ETA: 0s - loss: 1.3691 - accuracy: 0.5013\n",
            "Epoch 00054: val_loss did not improve from 1.56601\n",
            "25/25 [==============================] - 0s 16ms/step - loss: 1.3645 - accuracy: 0.5044 - val_loss: 1.6275 - val_accuracy: 0.4800\n",
            "Epoch 55/100\n",
            "25/25 [==============================] - ETA: 0s - loss: 1.3350 - accuracy: 0.5069\n",
            "Epoch 00055: val_loss did not improve from 1.56601\n",
            "25/25 [==============================] - 0s 15ms/step - loss: 1.3350 - accuracy: 0.5069 - val_loss: 1.6616 - val_accuracy: 0.4700\n",
            "Epoch 56/100\n",
            "24/25 [===========================>..] - ETA: 0s - loss: 1.3179 - accuracy: 0.5052\n",
            "Epoch 00056: val_loss did not improve from 1.56601\n",
            "25/25 [==============================] - 0s 16ms/step - loss: 1.3422 - accuracy: 0.5031 - val_loss: 1.7091 - val_accuracy: 0.4550\n",
            "Epoch 57/100\n",
            "25/25 [==============================] - ETA: 0s - loss: 1.2814 - accuracy: 0.5207\n",
            "Epoch 00057: val_loss did not improve from 1.56601\n",
            "25/25 [==============================] - 0s 15ms/step - loss: 1.2814 - accuracy: 0.5207 - val_loss: 1.8083 - val_accuracy: 0.4500\n",
            "Epoch 58/100\n",
            "24/25 [===========================>..] - ETA: 0s - loss: 1.2520 - accuracy: 0.5326\n",
            "Epoch 00058: val_loss did not improve from 1.56601\n",
            "25/25 [==============================] - 0s 16ms/step - loss: 1.2419 - accuracy: 0.5319 - val_loss: 1.6964 - val_accuracy: 0.4650\n",
            "Epoch 59/100\n",
            "22/25 [=========================>....] - ETA: 0s - loss: 1.3332 - accuracy: 0.5227\n",
            "Epoch 00059: val_loss did not improve from 1.56601\n",
            "25/25 [==============================] - 0s 15ms/step - loss: 1.3229 - accuracy: 0.5319 - val_loss: 1.6415 - val_accuracy: 0.4800\n",
            "Epoch 60/100\n",
            "25/25 [==============================] - ETA: 0s - loss: 1.2995 - accuracy: 0.5081\n",
            "Epoch 00060: val_loss did not improve from 1.56601\n",
            "25/25 [==============================] - 0s 15ms/step - loss: 1.2995 - accuracy: 0.5081 - val_loss: 1.7267 - val_accuracy: 0.4550\n",
            "Epoch 61/100\n",
            "25/25 [==============================] - ETA: 0s - loss: 1.2665 - accuracy: 0.5282\n",
            "Epoch 00061: val_loss did not improve from 1.56601\n",
            "25/25 [==============================] - 0s 16ms/step - loss: 1.2665 - accuracy: 0.5282 - val_loss: 1.6305 - val_accuracy: 0.4350\n",
            "Epoch 62/100\n",
            "24/25 [===========================>..] - ETA: 0s - loss: 1.2342 - accuracy: 0.5391\n",
            "Epoch 00062: val_loss improved from 1.56601 to 1.54249, saving model to saved_models/audio_classification_05:07:57.hdf5\n",
            "25/25 [==============================] - 0s 18ms/step - loss: 1.2299 - accuracy: 0.5419 - val_loss: 1.5425 - val_accuracy: 0.5100\n",
            "Epoch 63/100\n",
            "22/25 [=========================>....] - ETA: 0s - loss: 1.2668 - accuracy: 0.5312\n",
            "Epoch 00063: val_loss did not improve from 1.54249\n",
            "25/25 [==============================] - 0s 15ms/step - loss: 1.2616 - accuracy: 0.5382 - val_loss: 1.7327 - val_accuracy: 0.4650\n",
            "Epoch 64/100\n",
            "24/25 [===========================>..] - ETA: 0s - loss: 1.2054 - accuracy: 0.5677\n",
            "Epoch 00064: val_loss did not improve from 1.54249\n",
            "25/25 [==============================] - 0s 15ms/step - loss: 1.2031 - accuracy: 0.5670 - val_loss: 1.6557 - val_accuracy: 0.5250\n",
            "Epoch 65/100\n",
            "22/25 [=========================>....] - ETA: 0s - loss: 1.2067 - accuracy: 0.5554\n",
            "Epoch 00065: val_loss did not improve from 1.54249\n",
            "25/25 [==============================] - 0s 14ms/step - loss: 1.2048 - accuracy: 0.5544 - val_loss: 1.6412 - val_accuracy: 0.4850\n",
            "Epoch 66/100\n",
            "22/25 [=========================>....] - ETA: 0s - loss: 1.2213 - accuracy: 0.5767\n",
            "Epoch 00066: val_loss did not improve from 1.54249\n",
            "25/25 [==============================] - 0s 14ms/step - loss: 1.2087 - accuracy: 0.5807 - val_loss: 1.6230 - val_accuracy: 0.4950\n",
            "Epoch 67/100\n",
            "22/25 [=========================>....] - ETA: 0s - loss: 1.1404 - accuracy: 0.5767\n",
            "Epoch 00067: val_loss improved from 1.54249 to 1.53265, saving model to saved_models/audio_classification_05:07:57.hdf5\n",
            "25/25 [==============================] - 0s 18ms/step - loss: 1.1589 - accuracy: 0.5695 - val_loss: 1.5326 - val_accuracy: 0.5200\n",
            "Epoch 68/100\n",
            "24/25 [===========================>..] - ETA: 0s - loss: 1.1459 - accuracy: 0.5651\n",
            "Epoch 00068: val_loss did not improve from 1.53265\n",
            "25/25 [==============================] - 0s 15ms/step - loss: 1.1489 - accuracy: 0.5657 - val_loss: 1.6263 - val_accuracy: 0.5300\n",
            "Epoch 69/100\n",
            "22/25 [=========================>....] - ETA: 0s - loss: 1.1037 - accuracy: 0.5795\n",
            "Epoch 00069: val_loss did not improve from 1.53265\n",
            "25/25 [==============================] - 0s 15ms/step - loss: 1.1152 - accuracy: 0.5820 - val_loss: 1.8754 - val_accuracy: 0.5050\n",
            "Epoch 70/100\n",
            "25/25 [==============================] - ETA: 0s - loss: 1.1100 - accuracy: 0.5945\n",
            "Epoch 00070: val_loss did not improve from 1.53265\n",
            "25/25 [==============================] - 0s 15ms/step - loss: 1.1100 - accuracy: 0.5945 - val_loss: 1.8706 - val_accuracy: 0.5200\n",
            "Epoch 71/100\n",
            "21/25 [========================>.....] - ETA: 0s - loss: 1.0878 - accuracy: 0.5938\n",
            "Epoch 00071: val_loss did not improve from 1.53265\n",
            "25/25 [==============================] - 0s 16ms/step - loss: 1.0898 - accuracy: 0.5920 - val_loss: 1.9668 - val_accuracy: 0.5000\n",
            "Epoch 72/100\n",
            "21/25 [========================>.....] - ETA: 0s - loss: 1.1234 - accuracy: 0.5848\n",
            "Epoch 00072: val_loss improved from 1.53265 to 1.49122, saving model to saved_models/audio_classification_05:07:57.hdf5\n",
            "25/25 [==============================] - 0s 18ms/step - loss: 1.1085 - accuracy: 0.5857 - val_loss: 1.4912 - val_accuracy: 0.5400\n",
            "Epoch 73/100\n",
            "25/25 [==============================] - ETA: 0s - loss: 1.0810 - accuracy: 0.6283\n",
            "Epoch 00073: val_loss did not improve from 1.49122\n",
            "25/25 [==============================] - 0s 15ms/step - loss: 1.0810 - accuracy: 0.6283 - val_loss: 1.6329 - val_accuracy: 0.5050\n",
            "Epoch 74/100\n",
            "21/25 [========================>.....] - ETA: 0s - loss: 1.0829 - accuracy: 0.6116\n",
            "Epoch 00074: val_loss did not improve from 1.49122\n",
            "25/25 [==============================] - 0s 15ms/step - loss: 1.0891 - accuracy: 0.6033 - val_loss: 1.6008 - val_accuracy: 0.5300\n",
            "Epoch 75/100\n",
            "25/25 [==============================] - ETA: 0s - loss: 1.0477 - accuracy: 0.6045\n",
            "Epoch 00075: val_loss did not improve from 1.49122\n",
            "25/25 [==============================] - 0s 15ms/step - loss: 1.0477 - accuracy: 0.6045 - val_loss: 1.5381 - val_accuracy: 0.5450\n",
            "Epoch 76/100\n",
            "21/25 [========================>.....] - ETA: 0s - loss: 1.1339 - accuracy: 0.5982\n",
            "Epoch 00076: val_loss did not improve from 1.49122\n",
            "25/25 [==============================] - 0s 15ms/step - loss: 1.0988 - accuracy: 0.6083 - val_loss: 1.9389 - val_accuracy: 0.5200\n",
            "Epoch 77/100\n",
            "22/25 [=========================>....] - ETA: 0s - loss: 1.1001 - accuracy: 0.5966\n",
            "Epoch 00077: val_loss did not improve from 1.49122\n",
            "25/25 [==============================] - 0s 14ms/step - loss: 1.0988 - accuracy: 0.5932 - val_loss: 1.9241 - val_accuracy: 0.5000\n",
            "Epoch 78/100\n",
            "23/25 [==========================>...] - ETA: 0s - loss: 1.0705 - accuracy: 0.6196\n",
            "Epoch 00078: val_loss did not improve from 1.49122\n",
            "25/25 [==============================] - 0s 16ms/step - loss: 1.0569 - accuracy: 0.6270 - val_loss: 1.6730 - val_accuracy: 0.5200\n",
            "Epoch 79/100\n",
            "22/25 [=========================>....] - ETA: 0s - loss: 1.0727 - accuracy: 0.6378\n",
            "Epoch 00079: val_loss did not improve from 1.49122\n",
            "25/25 [==============================] - 0s 14ms/step - loss: 1.0739 - accuracy: 0.6308 - val_loss: 1.8467 - val_accuracy: 0.5250\n",
            "Epoch 80/100\n",
            "25/25 [==============================] - ETA: 0s - loss: 0.9774 - accuracy: 0.6471\n",
            "Epoch 00080: val_loss did not improve from 1.49122\n",
            "25/25 [==============================] - 0s 15ms/step - loss: 0.9774 - accuracy: 0.6471 - val_loss: 1.6201 - val_accuracy: 0.5550\n",
            "Epoch 81/100\n",
            "21/25 [========================>.....] - ETA: 0s - loss: 1.0015 - accuracy: 0.6354\n",
            "Epoch 00081: val_loss improved from 1.49122 to 1.47276, saving model to saved_models/audio_classification_05:07:57.hdf5\n",
            "25/25 [==============================] - 0s 18ms/step - loss: 1.0140 - accuracy: 0.6333 - val_loss: 1.4728 - val_accuracy: 0.5500\n",
            "Epoch 82/100\n",
            "22/25 [=========================>....] - ETA: 0s - loss: 1.0043 - accuracy: 0.6293\n",
            "Epoch 00082: val_loss did not improve from 1.47276\n",
            "25/25 [==============================] - 0s 15ms/step - loss: 0.9891 - accuracy: 0.6320 - val_loss: 1.8041 - val_accuracy: 0.5500\n",
            "Epoch 83/100\n",
            "21/25 [========================>.....] - ETA: 0s - loss: 0.9821 - accuracy: 0.6354\n",
            "Epoch 00083: val_loss did not improve from 1.47276\n",
            "25/25 [==============================] - 0s 15ms/step - loss: 0.9609 - accuracy: 0.6471 - val_loss: 1.8450 - val_accuracy: 0.5850\n",
            "Epoch 84/100\n",
            "22/25 [=========================>....] - ETA: 0s - loss: 0.8880 - accuracy: 0.6818\n",
            "Epoch 00084: val_loss did not improve from 1.47276\n",
            "25/25 [==============================] - 0s 15ms/step - loss: 0.9012 - accuracy: 0.6796 - val_loss: 1.5684 - val_accuracy: 0.5700\n",
            "Epoch 85/100\n",
            "22/25 [=========================>....] - ETA: 0s - loss: 0.9768 - accuracy: 0.6520\n",
            "Epoch 00085: val_loss did not improve from 1.47276\n",
            "25/25 [==============================] - 0s 15ms/step - loss: 0.9655 - accuracy: 0.6596 - val_loss: 1.7748 - val_accuracy: 0.5500\n",
            "Epoch 86/100\n",
            "25/25 [==============================] - ETA: 0s - loss: 0.9387 - accuracy: 0.6771\n",
            "Epoch 00086: val_loss did not improve from 1.47276\n",
            "25/25 [==============================] - 0s 17ms/step - loss: 0.9387 - accuracy: 0.6771 - val_loss: 1.8261 - val_accuracy: 0.5150\n",
            "Epoch 87/100\n",
            "24/25 [===========================>..] - ETA: 0s - loss: 1.0416 - accuracy: 0.6315\n",
            "Epoch 00087: val_loss did not improve from 1.47276\n",
            "25/25 [==============================] - 0s 16ms/step - loss: 1.0314 - accuracy: 0.6345 - val_loss: 1.6301 - val_accuracy: 0.5300\n",
            "Epoch 88/100\n",
            "22/25 [=========================>....] - ETA: 0s - loss: 0.8966 - accuracy: 0.6733\n",
            "Epoch 00088: val_loss did not improve from 1.47276\n",
            "25/25 [==============================] - 0s 15ms/step - loss: 0.8785 - accuracy: 0.6821 - val_loss: 1.7870 - val_accuracy: 0.5500\n",
            "Epoch 89/100\n",
            "25/25 [==============================] - ETA: 0s - loss: 0.8279 - accuracy: 0.7196\n",
            "Epoch 00089: val_loss did not improve from 1.47276\n",
            "25/25 [==============================] - 0s 15ms/step - loss: 0.8279 - accuracy: 0.7196 - val_loss: 1.6055 - val_accuracy: 0.5800\n",
            "Epoch 90/100\n",
            "25/25 [==============================] - ETA: 0s - loss: 0.8368 - accuracy: 0.6934\n",
            "Epoch 00090: val_loss improved from 1.47276 to 1.38923, saving model to saved_models/audio_classification_05:07:57.hdf5\n",
            "25/25 [==============================] - 0s 18ms/step - loss: 0.8368 - accuracy: 0.6934 - val_loss: 1.3892 - val_accuracy: 0.5700\n",
            "Epoch 91/100\n",
            "25/25 [==============================] - ETA: 0s - loss: 0.9049 - accuracy: 0.6909\n",
            "Epoch 00091: val_loss did not improve from 1.38923\n",
            "25/25 [==============================] - 0s 15ms/step - loss: 0.9049 - accuracy: 0.6909 - val_loss: 1.4388 - val_accuracy: 0.5300\n",
            "Epoch 92/100\n",
            "22/25 [=========================>....] - ETA: 0s - loss: 0.8468 - accuracy: 0.7315\n",
            "Epoch 00092: val_loss did not improve from 1.38923\n",
            "25/25 [==============================] - 0s 15ms/step - loss: 0.8383 - accuracy: 0.7284 - val_loss: 1.6220 - val_accuracy: 0.5750\n",
            "Epoch 93/100\n",
            "25/25 [==============================] - ETA: 0s - loss: 0.8411 - accuracy: 0.7021\n",
            "Epoch 00093: val_loss did not improve from 1.38923\n",
            "25/25 [==============================] - 0s 15ms/step - loss: 0.8411 - accuracy: 0.7021 - val_loss: 1.4243 - val_accuracy: 0.5750\n",
            "Epoch 94/100\n",
            "22/25 [=========================>....] - ETA: 0s - loss: 0.8530 - accuracy: 0.7088\n",
            "Epoch 00094: val_loss did not improve from 1.38923\n",
            "25/25 [==============================] - 0s 15ms/step - loss: 0.8622 - accuracy: 0.7146 - val_loss: 1.5442 - val_accuracy: 0.5550\n",
            "Epoch 95/100\n",
            "25/25 [==============================] - ETA: 0s - loss: 0.8422 - accuracy: 0.7121\n",
            "Epoch 00095: val_loss did not improve from 1.38923\n",
            "25/25 [==============================] - 0s 16ms/step - loss: 0.8422 - accuracy: 0.7121 - val_loss: 1.7175 - val_accuracy: 0.5500\n",
            "Epoch 96/100\n",
            "22/25 [=========================>....] - ETA: 0s - loss: 0.7570 - accuracy: 0.7500\n",
            "Epoch 00096: val_loss did not improve from 1.38923\n",
            "25/25 [==============================] - 0s 15ms/step - loss: 0.7690 - accuracy: 0.7447 - val_loss: 1.6272 - val_accuracy: 0.6050\n",
            "Epoch 97/100\n",
            "25/25 [==============================] - ETA: 0s - loss: 0.7376 - accuracy: 0.7459\n",
            "Epoch 00097: val_loss did not improve from 1.38923\n",
            "25/25 [==============================] - 0s 16ms/step - loss: 0.7376 - accuracy: 0.7459 - val_loss: 1.8212 - val_accuracy: 0.5550\n",
            "Epoch 98/100\n",
            "24/25 [===========================>..] - ETA: 0s - loss: 0.7608 - accuracy: 0.7422\n",
            "Epoch 00098: val_loss did not improve from 1.38923\n",
            "25/25 [==============================] - 0s 16ms/step - loss: 0.7673 - accuracy: 0.7409 - val_loss: 1.7841 - val_accuracy: 0.5700\n",
            "Epoch 99/100\n",
            "24/25 [===========================>..] - ETA: 0s - loss: 0.8371 - accuracy: 0.7201\n",
            "Epoch 00099: val_loss did not improve from 1.38923\n",
            "25/25 [==============================] - 0s 17ms/step - loss: 0.8310 - accuracy: 0.7209 - val_loss: 1.5751 - val_accuracy: 0.5500\n",
            "Epoch 100/100\n",
            "24/25 [===========================>..] - ETA: 0s - loss: 0.8590 - accuracy: 0.7083\n",
            "Epoch 00100: val_loss did not improve from 1.38923\n",
            "25/25 [==============================] - 0s 16ms/step - loss: 0.8551 - accuracy: 0.7096 - val_loss: 1.7252 - val_accuracy: 0.5700\n",
            "Training completed in time:  0:01:22.893680\n"
          ]
        }
      ]
    },
    {
      "cell_type": "code",
      "metadata": {
        "colab": {
          "base_uri": "https://localhost:8080/",
          "height": 374
        },
        "id": "Ckj5hPSQyPoa",
        "outputId": "972095a5-9739-4381-d6a0-aad132f89a8b"
      },
      "source": [
        "pd.DataFrame(history.history).plot(figsize=(12,6))\n",
        "plt.show()"
      ],
      "execution_count": null,
      "outputs": [
        {
          "output_type": "display_data",
          "data": {
            "image/png": "[encoded data removed]",
            "text/plain": [
              "<Figure size 864x432 with 1 Axes>"
            ]
          },
          "metadata": {
            "needs_background": "light"
          }
        }
      ]
    },
    {
      "cell_type": "code",
      "metadata": {
        "colab": {
          "base_uri": "https://localhost:8080/"
        },
        "id": "d-tr8AQ-Sw28",
        "outputId": "a70fbfdb-8700-4248-a8cc-3b4edefaf769"
      },
      "source": [
        "!wget https://raw.githubusercontent.com/abcom-mltutorials/music/master/bhatiyar.mp3"
      ],
      "execution_count": null,
      "outputs": [
        {
          "output_type": "stream",
          "name": "stdout",
          "text": [
            "--2023-05-08 04:48:39--  https://raw.githubusercontent.com/abcom-mltutorials/music/master/bhatiyar.mp3\n",
            "Resolving raw.githubusercontent.com (raw.githubusercontent.com)... 185.199.110.133, 185.199.108.133, 185.199.111.133, ...\n",
            "Connecting to raw.githubusercontent.com (raw.githubusercontent.com)|185.199.110.133|:443... connected.\n",
            "HTTP request sent, awaiting response... 200 OK\n",
            "Length: 5335040 (5.1M) [application/octet-stream]\n",
            "Saving to: ‘bhatiyar.mp3.3’\n",
            "\n",
            "\rbhatiyar.mp3.3        0%[                    ]       0  --.-KB/s               \rbhatiyar.mp3.3      100%[===================>]   5.09M  --.-KB/s    in 0.1s    \n",
            "\n",
            "2023-05-08 04:48:39 (45.7 MB/s) - ‘bhatiyar.mp3.3’ saved [5335040/5335040]\n",
            "\n"
          ]
        }
      ]
    },
    {
      "cell_type": "code",
      "metadata": {
        "id": "6i3kx96LTGtO"
      },
      "source": [
        "src = \"/content/bhatiyar.mp3\"\n",
        "dst = \"test.wav\""
      ],
      "execution_count": null,
      "outputs": []
    },
    {
      "cell_type": "code",
      "metadata": {
        "colab": {
          "base_uri": "https://localhost:8080/"
        },
        "id": "zQdglLW2TcTg",
        "outputId": "51c5c67b-225f-407b-f9aa-a8b20c0c502d"
      },
      "source": [
        "!pip install pydub"
      ],
      "execution_count": null,
      "outputs": [
        {
          "output_type": "stream",
          "name": "stdout",
          "text": [
            "Looking in indexes: https://pypi.org/simple, https://us-python.pkg.dev/colab-wheels/public/simple/\n",
            "Collecting pydub\n",
            "  Downloading pydub-0.25.1-py2.py3-none-any.whl (32 kB)\n",
            "Installing collected packages: pydub\n",
            "Successfully installed pydub-0.25.1\n"
          ]
        }
      ]
    },
    {
      "cell_type": "code",
      "metadata": {
        "id": "9nuLdP0OTi6v"
      },
      "source": [
        "###from pydub import AudioSegment\n",
        "from pydub import AudioSegment"
      ],
      "execution_count": null,
      "outputs": []
    },
    {
      "cell_type": "code",
      "metadata": {
        "id": "eFjgfplqTnIP"
      },
      "source": [
        "sound = AudioSegment.from_mp3(src)\n",
        "sound.export(dst, format=\"wav\")"
      ],
      "execution_count": null,
      "outputs": []
    },
    {
      "cell_type": "code",
      "metadata": {
        "id": "unoEykOxUYX6"
      },
      "source": [
        "\n",
        "audio_file=\"/content/test.wav\""
      ],
      "execution_count": null,
      "outputs": []
    },
    {
      "cell_type": "code",
      "metadata": {
        "id": "v-xbpga4Ufll"
      },
      "source": [
        "audio_feature=features_extractor(audio_file)"
      ],
      "execution_count": null,
      "outputs": []
    },
    {
      "cell_type": "code",
      "metadata": {
        "id": "cYg5yM9kWQhx"
      },
      "source": [
        "from sklearn.linear_model import LogisticRegression\n"
      ],
      "execution_count": null,
      "outputs": []
    },
    {
      "cell_type": "code",
      "metadata": {
        "id": "ZuxuQRs2fex2"
      },
      "source": [
        "from sklearn.model_selection import train_test_split\n",
        "X_train, X_test, y_train, y_test = train_test_split(X, y,\n",
        "                                                   test_size=0.2,\n",
        "                                                   random_state=42)"
      ],
      "execution_count": null,
      "outputs": []
    },
    {
      "cell_type": "code",
      "metadata": {
        "id": "ggZdonELUq3r"
      },
      "source": [
        "pred_audio=audio_feature"
      ],
      "execution_count": null,
      "outputs": []
    },
    {
      "cell_type": "code",
      "metadata": {
        "colab": {
          "base_uri": "https://localhost:8080/"
        },
        "id": "KpynKkRRycTG",
        "outputId": "e3e996f7-78f5-4241-d092-c7184b3bbe91"
      },
      "source": [
        "pred_audio"
      ],
      "execution_count": null,
      "outputs": [
        {
          "output_type": "execute_result",
          "data": {
            "text/plain": [
              "array([-2.3520059e+02,  1.2387175e+02, -2.2546131e+01,  5.2951675e+01,\n",
              "       -1.4538208e+00,  2.4660511e+01, -7.0884738e+00,  1.4890100e+01,\n",
              "       -1.2783066e+01,  1.6718231e+01, -2.9434726e+00,  1.0081299e+01,\n",
              "       -1.5028531e+01,  3.1190755e+00, -7.1235514e+00,  1.7955873e+00,\n",
              "       -7.0771871e+00,  2.3404598e-02, -2.0338798e+00,  1.1501081e+00,\n",
              "       -5.1028481e+00, -1.9207364e+00, -2.4087029e+00, -5.8205528e+00,\n",
              "       -1.2543029e+01, -9.1261854e+00,  5.6508803e+00,  3.6848648e+00,\n",
              "        3.1544328e+00, -8.8116179e+00, -7.8562846e+00, -4.7498784e+00,\n",
              "       -3.3666068e-01, -8.2353611e+00, -4.7341542e+00, -6.6724620e+00,\n",
              "       -5.7475915e+00, -5.9541826e+00, -5.2539773e+00,  1.7758617e+00],\n",
              "      dtype=float32)"
            ]
          },
          "metadata": {},
          "execution_count": 47
        }
      ]
    }
  ]
}